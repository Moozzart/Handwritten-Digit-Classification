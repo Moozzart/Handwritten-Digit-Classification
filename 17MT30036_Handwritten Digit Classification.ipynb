{
 "cells": [
  {
   "cell_type": "markdown",
   "metadata": {},
   "source": [
    "# Importing Necessary Libraries"
   ]
  },
  {
   "cell_type": "code",
   "execution_count": 26,
   "metadata": {},
   "outputs": [],
   "source": [
    "import keras\n",
    "from keras.datasets import mnist\n",
    "from sklearn.model_selection import train_test_split\n",
    "from sklearn.metrics import accuracy_score\n",
    "from sklearn import tree\n",
    "from matplotlib import pyplot as plt\n",
    "import numpy as np\n",
    "\n",
    "(X_train,y_train),(X_test,y_test)=mnist.load_data()\n",
    "X_train = X_train.reshape(X_train.shape[0],784)\n",
    "X_test = X_test.reshape(X_test.shape[0],784)\n",
    "X_train, X_val, y_train, y_val = train_test_split(X_train, y_train, test_size=1/6)"
   ]
  },
  {
   "cell_type": "markdown",
   "metadata": {},
   "source": [
    "# Refining the Dataset(if pixel value <= 100, then pixel value = 0 else pixel value = 255)"
   ]
  },
  {
   "cell_type": "code",
   "execution_count": 27,
   "metadata": {},
   "outputs": [],
   "source": [
    "def makebin(vec):\n",
    "  for i in range(len(vec)):\n",
    "    for j in range(len(vec[0])):\n",
    "      if vec[i][j]<=100:\n",
    "        vec[i][j]=0\n",
    "      else: \n",
    "        vec[i][j]=255\n",
    "makebin(X_train) #modifying training set\n",
    "makebin(X_test) #modifying test set\n",
    "makebin(X_val) #modifying validation set"
   ]
  },
  {
   "cell_type": "markdown",
   "metadata": {},
   "source": [
    "# Mean accuracy of 50 Decision Trees"
   ]
  },
  {
   "cell_type": "code",
   "execution_count": 28,
   "metadata": {},
   "outputs": [
    {
     "name": "stdout",
     "output_type": "stream",
     "text": [
      "Mean accuracy score of the 50 Decision Trees = \u001b[1m33.44%\u001b[0m,\n",
      "with a minimum score of \u001b[1m23.82%\u001b[0m% and a maximum score of \u001b[1m44.05%\u001b[0m%\n"
     ]
    }
   ],
   "source": [
    "n=50 #Total number of instances of decision trees\n",
    "d=10 #Total number of features for every tree\n",
    "DT_list=[]  #To store generated decision trees\n",
    "DT_features=[]  #To store generated feature-sets\n",
    "ac_sc=np.zeros(n) #To store accuracy scores of randomly generated decision trees\n",
    "for i in range(n):\n",
    "\n",
    "    #Generating random subset of 10 specific pixels\n",
    "    rand_px=np.random.randint(0,784, size=d)\n",
    "    X_train_DT=X_train[:,rand_px]\n",
    "\n",
    "    #Training the DT classifier\n",
    "    DT=tree.DecisionTreeClassifier(max_depth=5,criterion='entropy')\n",
    "    DT.fit(X_train_DT,y_train)\n",
    "    DT_list.append(DT)\n",
    "    DT_features.append(rand_px)\n",
    "    #Predicting and calculating accuracy of the DT\n",
    "    y_pred = DT.predict(X_val[:,rand_px])\n",
    "    ac_sc[i]=accuracy_score(y_val, y_pred)\n",
    "#fig = plt.figure(figsize=(40,25))\n",
    "#_ = tree.plot_tree(DT, filled=True)\n",
    "\n",
    "# Mean accuracy on the validation set of all 50 DTs\n",
    "print('Mean accuracy score of the 50 Decision Trees = \\033[1m{:.2f}%\\033[0m,'.format(np.mean(ac_sc)*100))\n",
    "print('with a minimum score of \\033[1m{:.2f}%\\033[0m% and a maximum score of \\033[1m{:.2f}%\\033[0m%'.format(np.min(ac_sc)*100,np.max(ac_sc)*100))"
   ]
  },
  {
   "cell_type": "markdown",
   "metadata": {},
   "source": [
    "# Random Forest/ Ensemble on the basis of weights of validation accuracies obtained(Obtaining accuracy on testing set)"
   ]
  },
  {
   "cell_type": "code",
   "execution_count": 29,
   "metadata": {},
   "outputs": [],
   "source": [
    "#Working on the test set\n",
    "#Creating a prediction matrix for all 10000 testing examples across the 50 decision trees \n",
    "pred_mat=[]\n",
    "for i in range(n):\n",
    "    y_pred_test=DT_list[i].predict(X_test[:,DT_features[i]])\n",
    "    pred_mat.append(y_pred_test)\n",
    "pred_mat=np.asarray(pred_mat)"
   ]
  },
  {
   "cell_type": "code",
   "execution_count": 30,
   "metadata": {},
   "outputs": [
    {
     "name": "stdout",
     "output_type": "stream",
     "text": [
      "Accuracy score of the weighted ensemble/Random Forest of the 50 Decision Trees on the \u001b[1mtesting\u001b[0m examples= \u001b[1m61.71%\u001b[0m\n"
     ]
    }
   ],
   "source": [
    "#Initializing list of weights for each possible label value for all test set examples \n",
    "w_list=np.zeros((10,len(y_pred_test)))\n",
    "\n",
    "#Enumerating the vote provided each of the DTs \n",
    "for i in range(n):\n",
    "    for j in range(len(y_pred_test)):\n",
    "        w_list[pred_mat[i,j],j]+=ac_sc[i]\n",
    "\n",
    "#Weighted ensemble classifier predictions:\n",
    "y_weighted_pred=np.argmax(w_list,axis=0)\n",
    "print('Accuracy score of the weighted ensemble/Random Forest of the 50 Decision Trees on the \\033[1mtesting\\033[0m examples= \\033[1m{:.2f}%\\033[0m'.format(accuracy_score(y_weighted_pred, y_test)*100))"
   ]
  },
  {
   "cell_type": "markdown",
   "metadata": {},
   "source": [
    "# Random Forest/ Ensemble on the basis of weights of validation accuracies obtained(Obtaining accuracy on training set)"
   ]
  },
  {
   "cell_type": "code",
   "execution_count": 31,
   "metadata": {},
   "outputs": [
    {
     "name": "stdout",
     "output_type": "stream",
     "text": [
      "Accuracy score of the weighted ensemble/Random Forest of 50 Decision Trees on the \u001b[1mtraining\u001b[0m examples= \u001b[1m60.23%\u001b[0m\n"
     ]
    }
   ],
   "source": [
    "#Obtaining initial weak classifier for boosting\n",
    "pred_train_mat=[]\n",
    "for i in range(n):\n",
    "    y_pred_train=DT_list[i].predict(X_train[:,DT_features[i]])\n",
    "    pred_train_mat.append(y_pred_train)\n",
    "pred_train_mat=np.asarray(pred_train_mat)\n",
    "\n",
    "#Initializing list of weights for each possible label value for all test set examples \n",
    "w_train_list=np.zeros((d,len(y_pred_train)))\n",
    "\n",
    "#Enumerating the vote provided each of the DTs \n",
    "for i in range(n):\n",
    "    for j in range(len(y_pred_train)):\n",
    "        w_train_list[pred_train_mat[i,j],j]+=ac_sc[i]\n",
    "\n",
    "#Weighted ensemble classifier predictions:\n",
    "y_weighted_pred_train=np.argmax(w_train_list,axis=0)\n",
    "print('Accuracy score of the weighted ensemble/Random Forest of 50 Decision Trees on the \\033[1mtraining\\033[0m examples= \\033[1m{:.2f}%\\033[0m'.format(accuracy_score(y_weighted_pred_train, y_train)*100))"
   ]
  },
  {
   "cell_type": "markdown",
   "metadata": {},
   "source": [
    "# Adaboost Implementation with weighted entropy (Use of class_weights argument)"
   ]
  },
  {
   "cell_type": "code",
   "execution_count": 32,
   "metadata": {},
   "outputs": [],
   "source": [
    "#Adaboost implementation:\n",
    "\n",
    "n_ada=20\n",
    "#Initializing weights\n",
    "w_trainex=np.ones(len(y_train))/len(y_train)\n",
    "AB_list=[]\n",
    "w_ABtree=np.zeros(n_ada)\n",
    "w_err=np.zeros(n_ada)\n",
    "\n",
    "#running Adaptive-Boost (AdaBoost) for 20 iterations\n",
    "for i in range(n_ada):\n",
    "    w_trainex[i]=w_trainex[i]/np.sum(w_trainex)\n",
    "    AB=tree.DecisionTreeClassifier(max_depth=5,criterion='entropy',class_weight='balanced')   #class_weight = 'balanced', ensures that the \n",
    "    AB.fit(X_train,y_train,sample_weight=w_trainex)                                           #weights used in the entropy aren't equally weighted    \n",
    "    for j in range(len(y_train)):                                                             #but instead they are adjusted automatically as the \n",
    "        if y_train[j] != y_weighted_pred_train[j]:                                            #weights proportional to class frequencies in the input data as \n",
    "            w_err[i]+=w_trainex[j]                                                            #(n_classes * np.bincount(y))/n_samples\n",
    "    AB_list.append(AB)\n",
    "    w_ABtree[i]=0.5*np.log((1-w_err[i])/w_err[i])\n",
    "    w_trainex[i]=w_trainex[i]*np.exp(w_ABtree[i]) if y_train[j] != y_weighted_pred_train[j] else w_trainex[i]*np.exp(-1*w_ABtree[i])"
   ]
  },
  {
   "cell_type": "code",
   "execution_count": 33,
   "metadata": {},
   "outputs": [
    {
     "name": "stdout",
     "output_type": "stream",
     "text": [
      "Accuracy score of the \u001b[1m'Adaboost'\u001b[0m-ed ensemble of the 50 Decision Trees on the \u001b[1mtesting\u001b[0m examples= \u001b[1m64.05%\u001b[0m\n"
     ]
    }
   ],
   "source": [
    "AB_pred_mat=[]\n",
    "for i in range(n_ada):\n",
    "    y_pred_test_AB=AB_list[i].predict(X_test)\n",
    "    AB_pred_mat.append(y_pred_test_AB)\n",
    "AB_pred_mat=np.asarray(AB_pred_mat)\n",
    "\n",
    "w_list_AB=np.zeros((10,len(y_pred_test_AB)))\n",
    "\n",
    "#Enumerating the vote provided each of the DTs \n",
    "for i in range(n_ada):\n",
    "    for j in range(len(y_pred_test_AB)):\n",
    "        w_list_AB[AB_pred_mat[i,j],j]+=w_ABtree[i]\n",
    "\n",
    "#Weighted ensemble classifier predictions:\n",
    "y_AB_final=np.argmax(w_list_AB,axis=0)\n",
    "print('Accuracy score of the \\033[1m\\'Adaboost\\'\\033[0m-ed ensemble of the 50 Decision Trees on the \\033[1mtesting\\033[0m examples= \\033[1m{:.2f}%\\033[0m'.format(accuracy_score(y_AB_final, y_test)*100))"
   ]
  },
  {
   "cell_type": "code",
   "execution_count": null,
   "metadata": {},
   "outputs": [],
   "source": []
  }
 ],
 "metadata": {
  "kernelspec": {
   "display_name": "Python 3",
   "language": "python",
   "name": "python3"
  },
  "language_info": {
   "codemirror_mode": {
    "name": "ipython",
    "version": 3
   },
   "file_extension": ".py",
   "mimetype": "text/x-python",
   "name": "python",
   "nbconvert_exporter": "python",
   "pygments_lexer": "ipython3",
   "version": "3.7.4"
  }
 },
 "nbformat": 4,
 "nbformat_minor": 4
}
